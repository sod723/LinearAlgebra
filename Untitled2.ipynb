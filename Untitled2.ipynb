{
  "nbformat": 4,
  "nbformat_minor": 0,
  "metadata": {
    "colab": {
      "name": "Copy of Untitled3.ipynb",
      "provenance": [],
      "collapsed_sections": [],
      "toc_visible": true
    },
    "kernelspec": {
      "name": "python3",
      "display_name": "Python 3"
    },
    "language_info": {
      "name": "python"
    }
  },
  "cells": [
    {
      "cell_type": "code",
      "metadata": {
        "id": "fKu-yu8195eJ"
      },
      "source": [
        "import numpy as np"
      ],
      "execution_count": null,
      "outputs": []
    },
    {
      "cell_type": "code",
      "metadata": {
        "colab": {
          "base_uri": "https://localhost:8080/"
        },
        "id": "-MOmu5zZ-hw2",
        "outputId": "3317d170-1e59-4248-acea-92903b912681"
      },
      "source": [
        "A = np.array([[0,1,-2.3,0.1], [1.3, 4, -0.1, 0], [4.1, -1.0, 0, 1.7]])\n",
        "A.shape"
      ],
      "execution_count": null,
      "outputs": [
        {
          "output_type": "execute_result",
          "data": {
            "text/plain": [
              "(3, 4)"
            ]
          },
          "metadata": {},
          "execution_count": 18
        }
      ]
    },
    {
      "cell_type": "code",
      "metadata": {
        "colab": {
          "base_uri": "https://localhost:8080/"
        },
        "id": "qEa-h3Mk-sor",
        "outputId": "74d6458a-95cd-4542-d200-9d0c52113db0"
      },
      "source": [
        " m,n = A.shape\n",
        "print('m:', m)\n",
        "print('n:', n)"
      ],
      "execution_count": null,
      "outputs": [
        {
          "output_type": "stream",
          "name": "stdout",
          "text": [
            "m: 3\n",
            "n: 4\n"
          ]
        }
      ]
    },
    {
      "cell_type": "code",
      "metadata": {
        "colab": {
          "base_uri": "https://localhost:8080/"
        },
        "id": "okP5FxLu_wcT",
        "outputId": "bea8ed3e-9146-4722-f5b3-d10f27fd1649"
      },
      "source": [
        "tall = lambda X: A.shape[0] > A.shape[1]\n",
        "tall(A)"
      ],
      "execution_count": null,
      "outputs": [
        {
          "output_type": "execute_result",
          "data": {
            "text/plain": [
              "False"
            ]
          },
          "metadata": {},
          "execution_count": 10
        }
      ]
    },
    {
      "cell_type": "code",
      "metadata": {
        "colab": {
          "base_uri": "https://localhost:8080/"
        },
        "id": "u8rk_6u3AHHA",
        "outputId": "9cf6efac-f149-4484-c4e1-2270f515c851"
      },
      "source": [
        "wide = lambda X: X.shape[0] < X.shape[1]\n",
        "wide(A)"
      ],
      "execution_count": null,
      "outputs": [
        {
          "output_type": "execute_result",
          "data": {
            "text/plain": [
              "True"
            ]
          },
          "metadata": {},
          "execution_count": 9
        }
      ]
    },
    {
      "cell_type": "code",
      "metadata": {
        "colab": {
          "base_uri": "https://localhost:8080/"
        },
        "id": "zcoulQXEA1yB",
        "outputId": "8656b6b4-1773-4405-bcf3-675896eba579"
      },
      "source": [
        "A[0,2]"
      ],
      "execution_count": null,
      "outputs": [
        {
          "output_type": "execute_result",
          "data": {
            "text/plain": [
              "-2.3"
            ]
          },
          "metadata": {},
          "execution_count": 19
        }
      ]
    },
    {
      "cell_type": "code",
      "metadata": {
        "colab": {
          "base_uri": "https://localhost:8080/"
        },
        "id": "I4UHv55qBLIG",
        "outputId": "1cb25ea1-def6-4670-e970-e45b51d60f84"
      },
      "source": [
        "A[0,2] = 7.5\n",
        "A"
      ],
      "execution_count": null,
      "outputs": [
        {
          "output_type": "execute_result",
          "data": {
            "text/plain": [
              "array([[ 0. ,  1. ,  7.5,  0.1],\n",
              "       [ 1.3,  4. , -0.1,  0. ],\n",
              "       [ 4.1, -1. ,  0. ,  1.7]])"
            ]
          },
          "metadata": {},
          "execution_count": 20
        }
      ]
    },
    {
      "cell_type": "code",
      "metadata": {
        "colab": {
          "base_uri": "https://localhost:8080/"
        },
        "id": "6iTAB33DBtbn",
        "outputId": "7705a3a3-9fa9-4556-845d-f8dbb930ebd7"
      },
      "source": [
        "A = np.array([[0,1,-2.3,0.1], [1.3, 4, -0.1, 0], [4.1, -1.0, 0, 1.7]])\n",
        "B = A.copy()\n",
        "print(A == B)\n",
        "print(np.sum(A==B))"
      ],
      "execution_count": null,
      "outputs": [
        {
          "output_type": "stream",
          "name": "stdout",
          "text": [
            "[[ True  True  True  True]\n",
            " [ True  True  True  True]\n",
            " [ True  True  True  True]]\n",
            "12\n"
          ]
        }
      ]
    },
    {
      "cell_type": "code",
      "metadata": {
        "colab": {
          "base_uri": "https://localhost:8080/"
        },
        "id": "ATAu8vn0B8li",
        "outputId": "f2a06e01-99b2-4131-ec82-ce14eb7ec3a4"
      },
      "source": [
        "B[0,3] = 100\n",
        "print(A == B)\n",
        "print(np.sum(A==B))"
      ],
      "execution_count": null,
      "outputs": [
        {
          "output_type": "stream",
          "name": "stdout",
          "text": [
            "[[ True  True  True False]\n",
            " [ True  True  True  True]\n",
            " [ True  True  True  True]]\n",
            "11\n"
          ]
        }
      ]
    },
    {
      "cell_type": "code",
      "metadata": {
        "colab": {
          "base_uri": "https://localhost:8080/"
        },
        "id": "mX8I1uOBDW0p",
        "outputId": "85f1f151-ca9d-4851-bb0b-228e3c1b1204"
      },
      "source": [
        "A = np.array([[-1, 0, 1, 0],[2, -3, 0, 1],[0, 4, -2, 1]])\n",
        "A[0:2, 2:4]"
      ],
      "execution_count": null,
      "outputs": [
        {
          "output_type": "execute_result",
          "data": {
            "text/plain": [
              "array([[1, 0],\n",
              "       [0, 1]])"
            ]
          },
          "metadata": {},
          "execution_count": 27
        }
      ]
    },
    {
      "cell_type": "code",
      "metadata": {
        "colab": {
          "base_uri": "https://localhost:8080/"
        },
        "id": "6lkuztxeDrb7",
        "outputId": "5ff2715a-e5f0-42a1-d91d-a3cdcd6117ee"
      },
      "source": [
        "#세번째 열\n",
        "A[0:3,2:3]\n"
      ],
      "execution_count": null,
      "outputs": [
        {
          "output_type": "execute_result",
          "data": {
            "text/plain": [
              "array([[ 1],\n",
              "       [ 0],\n",
              "       [-2]])"
            ]
          },
          "metadata": {},
          "execution_count": 34
        }
      ]
    },
    {
      "cell_type": "code",
      "metadata": {
        "colab": {
          "base_uri": "https://localhost:8080/"
        },
        "id": "iH1bz96hEX-p",
        "outputId": "3749fed3-3e12-429f-b953-eb91cc30a9cc"
      },
      "source": [
        "A[:,2]"
      ],
      "execution_count": null,
      "outputs": [
        {
          "output_type": "execute_result",
          "data": {
            "text/plain": [
              "array([ 1,  0, -2])"
            ]
          },
          "metadata": {},
          "execution_count": 35
        }
      ]
    },
    {
      "cell_type": "code",
      "metadata": {
        "colab": {
          "base_uri": "https://localhost:8080/"
        },
        "id": "uI9djNXmEgvn",
        "outputId": "0113d086-1b49-415c-ed0b-f58273903062"
      },
      "source": [
        "#두번째 행\n",
        "A[1:2,:]"
      ],
      "execution_count": null,
      "outputs": [
        {
          "output_type": "execute_result",
          "data": {
            "text/plain": [
              "array([[ 2, -3,  0,  1]])"
            ]
          },
          "metadata": {},
          "execution_count": 36
        }
      ]
    },
    {
      "cell_type": "code",
      "metadata": {
        "colab": {
          "base_uri": "https://localhost:8080/"
        },
        "id": "xhK808LpE7gW",
        "outputId": "d2bf01d8-5781-404a-ee1f-4d2417ffcce0"
      },
      "source": [
        "A[1,]"
      ],
      "execution_count": null,
      "outputs": [
        {
          "output_type": "execute_result",
          "data": {
            "text/plain": [
              "array([ 2, -3,  0,  1])"
            ]
          },
          "metadata": {},
          "execution_count": 37
        }
      ]
    },
    {
      "cell_type": "code",
      "metadata": {
        "colab": {
          "base_uri": "https://localhost:8080/"
        },
        "id": "MfOpgUM3FCBz",
        "outputId": "52000235-109c-4b5b-e143-d88ad4c5e4d6"
      },
      "source": [
        "A.reshape((6,2))"
      ],
      "execution_count": null,
      "outputs": [
        {
          "output_type": "execute_result",
          "data": {
            "text/plain": [
              "array([[-1,  0],\n",
              "       [ 1,  0],\n",
              "       [ 2, -3],\n",
              "       [ 0,  1],\n",
              "       [ 0,  4],\n",
              "       [-2,  1]])"
            ]
          },
          "metadata": {},
          "execution_count": 38
        }
      ]
    },
    {
      "cell_type": "code",
      "metadata": {
        "colab": {
          "base_uri": "https://localhost:8080/"
        },
        "id": "UVfl97xvFVEk",
        "outputId": "291d0faa-5ce9-46ed-caec-6c55638c8dba"
      },
      "source": [
        "A.reshape((1,12))"
      ],
      "execution_count": null,
      "outputs": [
        {
          "output_type": "execute_result",
          "data": {
            "text/plain": [
              "array([[-1,  0,  1,  0,  2, -3,  0,  1,  0,  4, -2,  1]])"
            ]
          },
          "metadata": {},
          "execution_count": 39
        }
      ]
    },
    {
      "cell_type": "code",
      "metadata": {
        "colab": {
          "base_uri": "https://localhost:8080/"
        },
        "id": "-x5G4prfFVnI",
        "outputId": "e8c74a00-213e-41ba-eac9-f79633d9c589"
      },
      "source": [
        "B = np.array([0,2,3]) #1 by 3 matrix \n",
        "C = np.array([-1]) #1 by 1 matrix \n",
        "D = np.array([[2,2,1],[1,3,5]]) #2 by 3 matrix \n",
        "E = np.array([[4],[4]]) #2 by 1 matrix \n",
        "# Constrcut 3 by 4 block matrix\n",
        "A = np.block([[B,C],[D,E]])\n",
        "A"
      ],
      "execution_count": null,
      "outputs": [
        {
          "output_type": "execute_result",
          "data": {
            "text/plain": [
              "array([[ 0,  2,  3, -1],\n",
              "       [ 2,  2,  1,  4],\n",
              "       [ 1,  3,  5,  4]])"
            ]
          },
          "metadata": {},
          "execution_count": 40
        }
      ]
    },
    {
      "cell_type": "code",
      "metadata": {
        "colab": {
          "base_uri": "https://localhost:8080/"
        },
        "id": "OHlx6F9HGuue",
        "outputId": "20fa2b67-ce04-4cbe-ba3f-02b9c6c24c14"
      },
      "source": [
        "#행벡터\n",
        "a = [1,2]\n",
        "b = [4,5]\n",
        "c = [7,8]\n",
        "A = np.vstack([a,b,c])\n",
        "B = np.hstack([a,b,c])\n",
        "print('matrix A :',A)\n",
        "print('dimensions of A :', A.shape)\n",
        "print('matrix B :',B)\n",
        "print('dimensions of B :', B.shape)"
      ],
      "execution_count": null,
      "outputs": [
        {
          "output_type": "stream",
          "name": "stdout",
          "text": [
            "matrix A : [[1 2]\n",
            " [4 5]\n",
            " [7 8]]\n",
            "dimensions of A : (3, 2)\n",
            "matrix B : [1 2 4 5 7 8]\n",
            "dimensions of B : (6,)\n"
          ]
        }
      ]
    },
    {
      "cell_type": "code",
      "metadata": {
        "colab": {
          "base_uri": "https://localhost:8080/"
        },
        "id": "6CkG6NEOHI2z",
        "outputId": "984e4bb8-7bb7-4eff-ee36-7050efaa6d74"
      },
      "source": [
        "#열벡터 \n",
        "a = [[1],[2]]\n",
        "b = [[4],[5]]\n",
        "c = [[7],[8]]\n",
        "A = np.vstack([a,b,c])\n",
        "B = np.hstack([a,b,c])\n",
        "print('matrix A :',A)\n",
        "print('dimensions of A :', A.shape)\n",
        "print('matrix B :',B)\n",
        "print('dimensions of B :', B.shape)"
      ],
      "execution_count": null,
      "outputs": [
        {
          "output_type": "stream",
          "name": "stdout",
          "text": [
            "matrix A : [[1]\n",
            " [2]\n",
            " [4]\n",
            " [5]\n",
            " [7]\n",
            " [8]]\n",
            "dimensions of A : (6, 1)\n",
            "matrix B : [[1 4 7]\n",
            " [2 5 8]]\n",
            "dimensions of B : (2, 3)\n"
          ]
        }
      ]
    },
    {
      "cell_type": "code",
      "metadata": {
        "colab": {
          "base_uri": "https://localhost:8080/"
        },
        "id": "qs_3CTlWHka8",
        "outputId": "c2438401-ff81-49c3-b0c2-cfe16d739475"
      },
      "source": [
        "np.zeros((4,3))"
      ],
      "execution_count": null,
      "outputs": [
        {
          "output_type": "execute_result",
          "data": {
            "text/plain": [
              "array([[0., 0., 0.],\n",
              "       [0., 0., 0.],\n",
              "       [0., 0., 0.],\n",
              "       [0., 0., 0.]])"
            ]
          },
          "metadata": {},
          "execution_count": 47
        }
      ]
    },
    {
      "cell_type": "code",
      "metadata": {
        "colab": {
          "base_uri": "https://localhost:8080/"
        },
        "id": "I9mRQgx-JHh5",
        "outputId": "569dbaf9-81d4-4826-8670-81366587c03c"
      },
      "source": [
        "np.ones((3,4))"
      ],
      "execution_count": null,
      "outputs": [
        {
          "output_type": "execute_result",
          "data": {
            "text/plain": [
              "array([[1., 1., 1., 1.],\n",
              "       [1., 1., 1., 1.],\n",
              "       [1., 1., 1., 1.]])"
            ]
          },
          "metadata": {},
          "execution_count": 48
        }
      ]
    },
    {
      "cell_type": "code",
      "metadata": {
        "colab": {
          "base_uri": "https://localhost:8080/"
        },
        "id": "FB5K8YEPJLJo",
        "outputId": "a5e40231-dfb8-4115-af9e-dca60b5219d7"
      },
      "source": [
        "np.identity(4)"
      ],
      "execution_count": null,
      "outputs": [
        {
          "output_type": "execute_result",
          "data": {
            "text/plain": [
              "array([[1., 0., 0., 0.],\n",
              "       [0., 1., 0., 0.],\n",
              "       [0., 0., 1., 0.],\n",
              "       [0., 0., 0., 1.]])"
            ]
          },
          "metadata": {},
          "execution_count": 49
        }
      ]
    },
    {
      "cell_type": "code",
      "metadata": {
        "colab": {
          "base_uri": "https://localhost:8080/"
        },
        "id": "Pr_MbxL8JOwX",
        "outputId": "2d6851f3-77d2-4428-c172-f06534554aa0"
      },
      "source": [
        "x = np.array([[0,1,2],[3,4,5],[6,7,8]])\n",
        "v = np.diag(x)\n",
        "v"
      ],
      "execution_count": null,
      "outputs": [
        {
          "output_type": "execute_result",
          "data": {
            "text/plain": [
              "array([0, 4, 8])"
            ]
          },
          "metadata": {},
          "execution_count": 52
        }
      ]
    },
    {
      "cell_type": "code",
      "metadata": {
        "colab": {
          "base_uri": "https://localhost:8080/"
        },
        "id": "Wf-hi5a4JhMJ",
        "outputId": "a5b3550f-4655-4830-d911-0157f19a6308"
      },
      "source": [
        "y = np.diag(y)\n",
        "y"
      ],
      "execution_count": null,
      "outputs": [
        {
          "output_type": "execute_result",
          "data": {
            "text/plain": [
              "array([[0, 0, 0],\n",
              "       [0, 4, 0],\n",
              "       [0, 0, 8]])"
            ]
          },
          "metadata": {},
          "execution_count": 53
        }
      ]
    },
    {
      "cell_type": "code",
      "metadata": {
        "colab": {
          "base_uri": "https://localhost:8080/"
        },
        "id": "ufhoFVzBJj4G",
        "outputId": "65b54283-82fe-466c-a5bf-59de4cbb9513"
      },
      "source": [
        "np.random.random((3,4))"
      ],
      "execution_count": null,
      "outputs": [
        {
          "output_type": "execute_result",
          "data": {
            "text/plain": [
              "array([[0.16390595, 0.07468894, 0.47304823, 0.3172901 ],\n",
              "       [0.29321272, 0.73422505, 0.77099018, 0.98060418],\n",
              "       [0.60777372, 0.96664534, 0.79743242, 0.75653361]])"
            ]
          },
          "metadata": {},
          "execution_count": 54
        }
      ]
    },
    {
      "cell_type": "code",
      "metadata": {
        "colab": {
          "base_uri": "https://localhost:8080/"
        },
        "id": "cWLqxY3ZJoap",
        "outputId": "95f54f1b-a713-4178-cc87-5056fc7a2251"
      },
      "source": [
        "np.random.randn(3,4)"
      ],
      "execution_count": null,
      "outputs": [
        {
          "output_type": "execute_result",
          "data": {
            "text/plain": [
              "array([[ 0.85000401,  1.60505691,  1.62821947, -1.69836259],\n",
              "       [-0.53518927,  0.20771615,  0.19838005,  0.20079242],\n",
              "       [ 0.54941234,  0.9477004 , -0.84962264, -1.86431951]])"
            ]
          },
          "metadata": {},
          "execution_count": 56
        }
      ]
    },
    {
      "cell_type": "code",
      "metadata": {
        "colab": {
          "base_uri": "https://localhost:8080/"
        },
        "id": "49dLHM9UKfCT",
        "outputId": "6ad8be92-c2da-4cfc-fae7-b6af87d5cab5"
      },
      "source": [
        "H = np.array([[0,1,-2,1],[2,-1,3,0]])\n",
        "H.T"
      ],
      "execution_count": null,
      "outputs": [
        {
          "output_type": "execute_result",
          "data": {
            "text/plain": [
              "array([[ 0,  2],\n",
              "       [ 1, -1],\n",
              "       [-2,  3],\n",
              "       [ 1,  0]])"
            ]
          },
          "metadata": {},
          "execution_count": 58
        }
      ]
    },
    {
      "cell_type": "code",
      "metadata": {
        "colab": {
          "base_uri": "https://localhost:8080/"
        },
        "id": "5pY78pw9MQXN",
        "outputId": "4f1c4fee-65ae-43ff-d251-9caf5045f21e"
      },
      "source": [
        "np.transpose(H)"
      ],
      "execution_count": null,
      "outputs": [
        {
          "output_type": "execute_result",
          "data": {
            "text/plain": [
              "array([[ 0,  2],\n",
              "       [ 1, -1],\n",
              "       [-2,  3],\n",
              "       [ 1,  0]])"
            ]
          },
          "metadata": {},
          "execution_count": 59
        }
      ]
    },
    {
      "cell_type": "code",
      "metadata": {
        "colab": {
          "base_uri": "https://localhost:8080/"
        },
        "id": "87lNyX8_MbgJ",
        "outputId": "1bba4093-57a6-4003-d90f-7ca8d4584516"
      },
      "source": [
        "U = np.array([[0,4], [7,0], [3,1]]) \n",
        "V = np.array([[1,2], [2,3], [0,4]]) \n",
        "U+V"
      ],
      "execution_count": null,
      "outputs": [
        {
          "output_type": "execute_result",
          "data": {
            "text/plain": [
              "array([[1, 6],\n",
              "       [9, 3],\n",
              "       [3, 5]])"
            ]
          },
          "metadata": {},
          "execution_count": 61
        }
      ]
    },
    {
      "cell_type": "code",
      "metadata": {
        "colab": {
          "base_uri": "https://localhost:8080/"
        },
        "id": "pYX2Nr0SMhSD",
        "outputId": "dda119f2-ea99-4506-bd05-f45aa00389e3"
      },
      "source": [
        "2.2*U"
      ],
      "execution_count": null,
      "outputs": [
        {
          "output_type": "execute_result",
          "data": {
            "text/plain": [
              "array([[ 0. ,  8.8],\n",
              "       [15.4,  0. ],\n",
              "       [ 6.6,  2.2]])"
            ]
          },
          "metadata": {},
          "execution_count": 62
        }
      ]
    },
    {
      "cell_type": "code",
      "metadata": {
        "colab": {
          "base_uri": "https://localhost:8080/"
        },
        "id": "9TEI9qtQMki5",
        "outputId": "3ae70a37-8cb2-4215-d048-50d4f1af30b7"
      },
      "source": [
        "A = np.array([[2,3,-1], [0,-1,4]])\n",
        "np.linalg.norm(A)"
      ],
      "execution_count": null,
      "outputs": [
        {
          "output_type": "execute_result",
          "data": {
            "text/plain": [
              "5.5677643628300215"
            ]
          },
          "metadata": {},
          "execution_count": 64
        }
      ]
    },
    {
      "cell_type": "code",
      "metadata": {
        "colab": {
          "base_uri": "https://localhost:8080/"
        },
        "id": "JwYxYD8QMoy3",
        "outputId": "f81794c3-e49d-46b2-cf53-bc5feb081a4f"
      },
      "source": [
        "A = np.array([[0,2,-1],[-2,1,1]]) \n",
        "x = np.array([2,1,-1])\n",
        "A@x"
      ],
      "execution_count": null,
      "outputs": [
        {
          "output_type": "execute_result",
          "data": {
            "text/plain": [
              "array([ 3, -4])"
            ]
          },
          "metadata": {},
          "execution_count": 65
        }
      ]
    },
    {
      "cell_type": "code",
      "metadata": {
        "colab": {
          "base_uri": "https://localhost:8080/"
        },
        "id": "UOQ0EwqMNbT5",
        "outputId": "1a21a096-69f5-4fba-fb3f-33d474ee3180"
      },
      "source": [
        "Rot = lambda theta: [[np.cos(theta), -np.sin(theta)],\n",
        "[np.sin(theta), np.cos(theta)]]\n",
        "R = Rot(np.pi/2)\n",
        "R"
      ],
      "execution_count": null,
      "outputs": [
        {
          "output_type": "execute_result",
          "data": {
            "text/plain": [
              "[[6.123233995736766e-17, -1.0], [1.0, 6.123233995736766e-17]]"
            ]
          },
          "metadata": {},
          "execution_count": 73
        }
      ]
    },
    {
      "cell_type": "code",
      "metadata": {
        "colab": {
          "base_uri": "https://localhost:8080/"
        },
        "id": "j4fcUOURNey4",
        "outputId": "5228a9e2-6679-4742-a663-372a09ff3870"
      },
      "source": [
        "#create a list of 2-D points\n",
        "points = np.array([[1,0],[1.5,0],[2,0],[1,0.25],[1.5,0.25],[1,0.5]])\n",
        "#Now rotate them\n",
        "rpoints = np.array([R @ p for p in points]) #Show the two sets of points\n",
        "print(points)\n",
        "print(rpoints)"
      ],
      "execution_count": null,
      "outputs": [
        {
          "output_type": "stream",
          "name": "stdout",
          "text": [
            "[[1.   0.  ]\n",
            " [1.5  0.  ]\n",
            " [2.   0.  ]\n",
            " [1.   0.25]\n",
            " [1.5  0.25]\n",
            " [1.   0.5 ]]\n",
            "[[ 6.12323400e-17  1.00000000e+00]\n",
            " [ 9.18485099e-17  1.50000000e+00]\n",
            " [ 1.22464680e-16  2.00000000e+00]\n",
            " [-2.50000000e-01  1.00000000e+00]\n",
            " [-2.50000000e-01  1.50000000e+00]\n",
            " [-5.00000000e-01  1.00000000e+00]]\n"
          ]
        }
      ]
    },
    {
      "cell_type": "code",
      "metadata": {
        "colab": {
          "base_uri": "https://localhost:8080/",
          "height": 265
        },
        "id": "BQmvUsU1OPT3",
        "outputId": "ab89911c-696a-4dd3-b390-7b57bbe9a8ae"
      },
      "source": [
        "#90도 회전결과\n",
        "import matplotlib.pyplot as plt\n",
        "plt.ion()\n",
        "plt.scatter([c[0] for c in points], [c[1] for c in points])\n",
        "plt.scatter([c[0] for c in rpoints],[c[1] for c in rpoints])\n",
        "plt.show()"
      ],
      "execution_count": null,
      "outputs": [
        {
          "output_type": "display_data",
          "data": {
            "image/png": "[encoded data removed]",
            "text/plain": [
              "<Figure size 432x288 with 1 Axes>"
            ]
          },
          "metadata": {
            "needs_background": "light"
          }
        }
      ]
    }
  ]
}